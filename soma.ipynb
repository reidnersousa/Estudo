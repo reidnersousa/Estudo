{
  "nbformat": 4,
  "nbformat_minor": 0,
  "metadata": {
    "colab": {
      "name": "soma.ipynb",
      "provenance": [],
      "collapsed_sections": [],
      "authorship_tag": "ABX9TyN1HtcBr0KFEBGjzGx9GQe6",
      "include_colab_link": true
    },
    "kernelspec": {
      "name": "python3",
      "display_name": "Python 3"
    },
    "language_info": {
      "name": "python"
    },
    "gpuClass": "standard",
    "accelerator": "GPU"
  },
  "cells": [
    {
      "cell_type": "markdown",
      "metadata": {
        "id": "view-in-github",
        "colab_type": "text"
      },
      "source": [
        "<a href=\"https://colab.research.google.com/github/reidnersousa/Estudo/blob/main/soma.ipynb\" target=\"_parent\"><img src=\"https://colab.research.google.com/assets/colab-badge.svg\" alt=\"Open In Colab\"/></a>"
      ]
    },
    {
      "cell_type": "code",
      "execution_count": null,
      "metadata": {
        "colab": {
          "base_uri": "https://localhost:8080/"
        },
        "id": "0wpXxVKR0BAD",
        "outputId": "9128bd7a-5e81-4f93-b8a0-76c03688926c"
      },
      "outputs": [
        {
          "output_type": "stream",
          "name": "stdout",
          "text": [
            "Overwriting somaVetorial.cu\n"
          ]
        }
      ],
      "source": [
        "%%writefile somaVetorial.cu\n",
        "\n",
        "#include<stdio.h>\n",
        "#include<time.h>\n",
        "#include<stdlib.h>\n",
        "\n",
        "\n",
        "\n",
        "__global__ void add(int *a, int *b, int *soma) {\n",
        "\tsoma[blockIdx.x] = a[blockIdx.x] + b[blockIdx.x];\n",
        "}\n",
        "\n",
        "__global__ void sub(int*a,int*b,int*sub){\n",
        "  sub[blockIdx.x] = a[blockIdx.x] - b[blockIdx.x];\n",
        "}\n",
        "\n",
        "\n",
        "\n",
        "void random_ints(int *a, int N){\n",
        "\tint i;\n",
        "\n",
        "\tfor (i=0;i < N; i++){\n",
        "\t\ta[i] = rand() % 10;\n",
        "    printf(\"%3d \",a[i]);\n",
        "\t}\n",
        "  puts(\"\");\n",
        "}\n",
        "\n",
        "\n",
        "\n",
        "#define N 10\n",
        "\n",
        "int main(void) {\n",
        "\tint *a, *b, *c,*d , *soma ; // host copies of a, b, c\n",
        "\tint *d_a, *d_b, *d_c,*d_d; // device copies of a, b, c\n",
        "\tint *soma_d ;\n",
        "  int size = N * sizeof(int);\n",
        "\tint i;\n",
        "\n",
        "\n",
        "\t// Alloc space for device copies of a, b, c\n",
        "\tcudaMalloc((void **)&d_a, size);\n",
        "\tcudaMalloc((void **)&d_b, size);\n",
        "\tcudaMalloc((void **)&d_c, size);\n",
        "  cudaMalloc((void **)&d_d, size);\n",
        "\n",
        "  cudaMalloc((void **)&soma_d, size);\n",
        "\n",
        "\n",
        "\tsrand(time(NULL));\n",
        "\t\n",
        "\t// Alloc space for host copies of a, b, c and setup input values\n",
        "\ta = (int *)malloc(size); random_ints(a, N);\n",
        "\tb = (int *)malloc(size); random_ints(b, N);\n",
        "  c = (int*)malloc(size) ; random_ints(c,N);\n",
        "  d = (int*)malloc(size) ; random_ints(d,N);\n",
        "\n",
        "\t\n",
        "  soma = (int *)malloc(size);\n",
        "\t\n",
        "\t\n",
        "  \n",
        "\t// Copy inputs to device\n",
        "\tcudaMemcpy(d_a, a, size, cudaMemcpyHostToDevice);\n",
        "\tcudaMemcpy(d_b, b, size, cudaMemcpyHostToDevice);\n",
        "  cudaMemcpy(d_c, c, size, cudaMemcpyHostToDevice);\n",
        "\tcudaMemcpy(d_d, d, size, cudaMemcpyHostToDevice);\n",
        "\t\n",
        "\t// Launch add() kernel on GPU with N blocks\n",
        "\tadd<<<N,1>>>(d_b, d_c, d_b);\n",
        "\t\n",
        "\t// Copy result back to host\n",
        "\tcudaMemcpy(soma, d_b, size, cudaMemcpyDeviceToHost);\n",
        "\t\n",
        "  \n",
        "\n",
        "\tfor (i = 0; i< N-1; i++){\n",
        "\t\tprintf(\">>%d,\",soma[i]);\n",
        "\t}\n",
        "\tprintf(\"==%d\\n\",soma[i]);\n",
        "\n",
        "\n",
        "\t// Cleanup\n",
        "\tfree(a); free(b); free(c);free(c);\n",
        "\tcudaFree(d_a); cudaFree(d_b); cudaFree(d_c); cudaFree(d);\n",
        "\t\n",
        "\t\n",
        "\treturn 0;\n",
        "\t}"
      ]
    },
    {
      "cell_type": "markdown",
      "source": [
        ""
      ],
      "metadata": {
        "id": "3T262uvV0Rxy"
      }
    },
    {
      "cell_type": "code",
      "source": [
        "!nvcc somaVetorial.cu -o somaVetorial\n",
        "!./somaVetorial"
      ],
      "metadata": {
        "colab": {
          "base_uri": "https://localhost:8080/"
        },
        "id": "JWcjW0il0WxW",
        "outputId": "c784d53d-3d12-452f-f26f-2ab8ae23b363"
      },
      "execution_count": null,
      "outputs": [
        {
          "output_type": "stream",
          "name": "stdout",
          "text": [
            "  3   2   9   8   9   6   4   9   3   6 \n",
            "  0   1   6   3   6   4   7   5   4   3 \n",
            "  9   7   3   0   2   1   7   6   4   8 \n",
            "  8   7   2   9   6   2   7   2   1   1 \n",
            ">>-730439440,>>22097,>>0,>>0,>>0,>>0,>>-1,>>0,>>0,==0\n"
          ]
        }
      ]
    },
    {
      "cell_type": "markdown",
      "source": [
        "Soma simples"
      ],
      "metadata": {
        "id": "gH7sy7ZN7zH-"
      }
    },
    {
      "cell_type": "code",
      "source": [
        "%%writefile soma.cu\n",
        "\n",
        "#include<stdio.h>\n",
        "\n",
        "__global__ void add(int *a, int *b, int *c) {\n",
        "    *c = *a + *b;\n",
        "}\n",
        "\n",
        "__global__ void sub(int *a, int *b, int *c) {\n",
        "    *c = *a - *b;\n",
        "}\n",
        "\n",
        "__global__ void mul(int *a, int *b, int *c) {\n",
        "    *c = *a * *b;\n",
        "}\n",
        "\n",
        "__global__ void div(int *a, int *b, int *c) {\n",
        "    *c = *a / *b;\n",
        "}\n",
        "\n",
        "\n",
        "\n",
        "int main(void) {\n",
        "  int a, b, c;              // host copies of a, b, c\n",
        "  int *d_a, *d_b, *d_c;     // device copies of a, b, c\n",
        "  int size = sizeof(int);\n",
        "  \n",
        " \n",
        "  // Allocate space for device copies of a, b, c\n",
        "  cudaMalloc((void **)&d_a, size);\n",
        "  cudaMalloc((void **)&d_b, size);\n",
        "  cudaMalloc((void **)&d_c, size);\n",
        "\n",
        "  a = 3;\n",
        "  b = 7;\n",
        "\n",
        "  // Copy inputs to device\n",
        "  cudaMemcpy(d_a, &a, size, cudaMemcpyHostToDevice);\n",
        "  cudaMemcpy(d_b, &b, size, cudaMemcpyHostToDevice);\n",
        "  \n",
        "  // Launch add() kernel on GPU\n",
        "   add<<<1,1>>>(d_a, d_b, d_c);\n",
        "  \n",
        "  // Copy result back to host\n",
        "  cudaMemcpy(&c, d_c, size, cudaMemcpyDeviceToHost);\n",
        "\n",
        "  printf(\">>>%d\\n\",c);\n",
        "  sub<<<1,1>>>(d_a,d_b,d_c);\n",
        "\n",
        "  cudaMemcpy(&c,d_c,size,cudaMemcpyDeviceToHost);\n",
        "\n",
        "  printf(\"%d\\n\",c);\n",
        "\n",
        "  mul<<<1,1>>>(d_a,d_b,d_c);\n",
        "\n",
        "  cudaMemcpy(&c,d_c,size,cudaMemcpyDeviceToHost);\n",
        "\n",
        "  printf(\"%d\\n\",c);\n",
        "\n",
        "  mul<<<1,1>>>(d_a,d_b,d_c);\n",
        "\n",
        "  cudaMemcpy(&c,d_c,size,cudaMemcpyDeviceToHost);\n",
        "\n",
        "  printf(\"%d\\n\",c);\n",
        "\n",
        "  // Cleanup\n",
        "  cudaFree(d_a); cudaFree(d_b); cudaFree(d_c);\n",
        "\n",
        "\n",
        "\n",
        "\n",
        "return 0;\n",
        "\n",
        "}"
      ],
      "metadata": {
        "colab": {
          "base_uri": "https://localhost:8080/"
        },
        "id": "dlY5PJr971Qf",
        "outputId": "0662c188-db6e-4bd5-bfd9-983fbaeaff27"
      },
      "execution_count": null,
      "outputs": [
        {
          "output_type": "stream",
          "name": "stdout",
          "text": [
            "Writing soma.cu\n"
          ]
        }
      ]
    },
    {
      "cell_type": "markdown",
      "source": [
        "Compilando e imprimindo "
      ],
      "metadata": {
        "id": "o6z1dtir8AFw"
      }
    },
    {
      "cell_type": "code",
      "source": [
        "!nvcc soma.cu -o soma\n",
        "!./soma"
      ],
      "metadata": {
        "colab": {
          "base_uri": "https://localhost:8080/"
        },
        "id": "bp0d9IBw79Xi",
        "outputId": "737dbb63-ee74-48f2-b3c4-8c70665edaea"
      },
      "execution_count": null,
      "outputs": [
        {
          "output_type": "stream",
          "name": "stdout",
          "text": [
            ">>>10\n",
            "-4\n",
            "21\n",
            "21\n"
          ]
        }
      ]
    },
    {
      "cell_type": "markdown",
      "source": [
        "kkk"
      ],
      "metadata": {
        "id": "6SgU9bAGHojt"
      }
    },
    {
      "cell_type": "code",
      "source": [
        "%%writefile somaa.cu\n",
        "\n",
        "#include<stdio.h>\n",
        "\n",
        "__global__ void add(int *a, int *b, int *c) {\n",
        "    *c = *a + *b;\n",
        "}\n",
        "\n",
        "__global__ void sub(int *a, int *b, int *c) {\n",
        "    *c = *a -*b;\n",
        "}\n",
        "\n",
        "\n",
        "\n",
        "__global__ void ex3(int *valor1, int *valor2 , int *valor3)\n",
        "{\n",
        "  \n",
        "  *valor2 = *valor2+*valor3;\n",
        "  *valor1 = *valor1* *valor2;\n",
        " \n",
        "}\n",
        "__global__ void FazTudoInt (int *v1, int *v2 ,int *v3 , int *v4)\n",
        "{\n",
        "  *v2=*v2+*v3;\n",
        "  *v4=*v2* *v4;\n",
        "  *v3=*v4/ *v3;\n",
        "  *v1=*v3-50;\n",
        "}\n",
        "\n",
        "\n",
        "int main(void) {\n",
        "  int a, b, c,d;              // host copies of a, b, c\n",
        "  int *d_a, *d_b, *d_c,*d_d;     // device copies of a, b, c\n",
        "  int size = sizeof(int);\n",
        "  \n",
        " \n",
        "  // Allocate space for device copies of a, b, c\n",
        "  cudaMalloc((void **)&d_a, size);\n",
        "  cudaMalloc((void **)&d_b, size);\n",
        "  cudaMalloc((void **)&d_c, size);\n",
        "  cudaMalloc((void **)&d_d, size);\n",
        "\n",
        "\n",
        "  a=0;\n",
        "  b = 7;\n",
        "  c = 10;\n",
        "  d = 15;\n",
        "\n",
        "\n",
        "  // Copy inputs to device\n",
        "  cudaMemcpy(d_b, &b, size, cudaMemcpyHostToDevice);\n",
        "  cudaMemcpy(d_c, &c, size, cudaMemcpyHostToDevice);\n",
        "  cudaMemcpy(d_d, &d, size, cudaMemcpyHostToDevice);\n",
        "\n",
        "\n",
        "  printf(\"a= %d\\n\",a);\n",
        "  printf(\"b= %d\\n\",b);\n",
        "  printf(\"c= %d\\n\",c);\n",
        "  printf(\"d= %d\\n\",d);\n",
        "  \n",
        "  // Launch add() kernel on GPU\n",
        "   FazTudoInt<<<1,1>>>(d_a, d_b, d_c,d_d);\n",
        "  \n",
        "  \n",
        "  cudaMemcpy(&a, d_a, size, cudaMemcpyDeviceToHost);\n",
        "  printf(\"resultado %d\",a);\n",
        "\n",
        "\n",
        "  \n",
        "  \n",
        "\n",
        "  // Cleanup\n",
        "  cudaFree(d_a); cudaFree(d_b); cudaFree(d_c);cudaFree(d_d);\n",
        "\n",
        "\n",
        "\n",
        "\n",
        "return 0;\n",
        "\n",
        "}"
      ],
      "metadata": {
        "colab": {
          "base_uri": "https://localhost:8080/"
        },
        "id": "wQTrV9gBHps-",
        "outputId": "8d1a9904-7169-4716-d592-7d177bfe28f9"
      },
      "execution_count": 1,
      "outputs": [
        {
          "output_type": "stream",
          "name": "stdout",
          "text": [
            "Writing somaa.cu\n"
          ]
        }
      ]
    },
    {
      "cell_type": "code",
      "source": [
        "!nvcc somaa.cu -o somaa\n",
        "!./somaa"
      ],
      "metadata": {
        "colab": {
          "base_uri": "https://localhost:8080/"
        },
        "id": "5D7b40QTHs9N",
        "outputId": "d4048089-00ff-4064-9221-5acd16400cd8"
      },
      "execution_count": 2,
      "outputs": [
        {
          "output_type": "stream",
          "name": "stdout",
          "text": [
            "a= 0\n",
            "b= 7\n",
            "c= 10\n",
            "d= 15\n",
            "resultado -25"
          ]
        }
      ]
    }
  ]
}